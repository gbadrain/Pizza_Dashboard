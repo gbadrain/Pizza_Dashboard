{
 "cells": [
  {
   "cell_type": "code",
   "execution_count": 1,
   "id": "4c956f56",
   "metadata": {},
   "outputs": [
    {
     "name": "stderr",
     "output_type": "stream",
     "text": [
      "/var/folders/7g/q4bdxd8s7xd3lw5j6j3g_m2r0000gq/T/ipykernel_6564/3395077444.py:4: UserWarning: Could not infer format, so each element will be parsed individually, falling back to `dateutil`. To ensure parsing is consistent and as-expected, please specify a format.\n",
      "  df[\"order_date\"] = pd.to_datetime(df[\"order_date\"], dayfirst=True).dt.strftime(\"%Y-%m-%d\")\n"
     ]
    }
   ],
   "source": [
    "import pandas as pd\n",
    "\n",
    "df = pd.read_csv(\"/Users/GURU/Desktop/Sql_Excel_pizza/pizza_sales.csv\")\n",
    "df[\"order_date\"] = pd.to_datetime(df[\"order_date\"], dayfirst=True).dt.strftime(\"%Y-%m-%d\")\n",
    "df.to_csv(\"pizza_sales_cleaned.csv\", index=False)\n"
   ]
  },
  {
   "cell_type": "code",
   "execution_count": null,
   "id": "a2ba3033",
   "metadata": {},
   "outputs": [
    {
     "name": "stdout",
     "output_type": "stream",
     "text": [
      "Total records: 48620\n"
     ]
    }
   ],
   "source": [
    "df.head()  # Shows the first 5 rows of pizza_sales_cleaned.csv\n",
    "print(f\"Total records: {len(df)}\")\n",
    "\n"
   ]
  },
  {
   "cell_type": "code",
   "execution_count": null,
   "id": "ec733ec4",
   "metadata": {},
   "outputs": [
    {
     "name": "stdout",
     "output_type": "stream",
     "text": [
      "pizza_id               int64\n",
      "order_id               int64\n",
      "pizza_name_id         object\n",
      "quantity               int64\n",
      "order_date            object\n",
      "order_time            object\n",
      "unit_price           float64\n",
      "total_price          float64\n",
      "pizza_size            object\n",
      "pizza_category        object\n",
      "pizza_ingredients     object\n",
      "pizza_name            object\n",
      "dtype: object\n"
     ]
    }
   ],
   "source": [
    "print(df.dtypes)  # Show data types of all columns of pizza_sales_cleaned.csv"
   ]
  },
  {
   "cell_type": "code",
   "execution_count": null,
   "id": "776c6004",
   "metadata": {},
   "outputs": [
    {
     "name": "stdout",
     "output_type": "stream",
     "text": [
      "0    2015-01-01\n",
      "1    2015-01-01\n",
      "2    2015-01-01\n",
      "3    2015-01-01\n",
      "4    2015-01-01\n",
      "Name: order_date, dtype: object\n"
     ]
    }
   ],
   "source": [
    "print(df[\"order_date\"].head())  # Display first few date values of pizza_sales_cleaned.csv\n"
   ]
  },
  {
   "cell_type": "code",
   "execution_count": 5,
   "id": "3364718b",
   "metadata": {},
   "outputs": [],
   "source": [
    "# Save the cleaned DataFrame to a new Excel file\n",
    "df.to_excel(\"/Users/GURU/Desktop/Sql_Excel_pizza/pizza_sales_cleaned.xlsx\", index=False, sheet_name=\"Pizza Sales Data\")\n"
   ]
  },
  {
   "cell_type": "code",
   "execution_count": null,
   "id": "be6f2d4a",
   "metadata": {},
   "outputs": [
    {
     "name": "stdout",
     "output_type": "stream",
     "text": [
      "   pizza_id  order_id  pizza_name_id  quantity order_date order_time  \\\n",
      "0         1         1     hawaiian_m         1     1/1/15   11:38:36   \n",
      "1         2         2  classic_dlx_m         1     1/1/15   11:57:40   \n",
      "2         3         2  five_cheese_l         1     1/1/15   11:57:40   \n",
      "3         4         2    ital_supr_l         1     1/1/15   11:57:40   \n",
      "4         5         2     mexicana_m         1     1/1/15   11:57:40   \n",
      "\n",
      "   unit_price  total_price pizza_size pizza_category  \\\n",
      "0       13.25        13.25          M        Classic   \n",
      "1       16.00        16.00          M        Classic   \n",
      "2       18.50        18.50          L         Veggie   \n",
      "3       20.75        20.75          L        Supreme   \n",
      "4       16.00        16.00          M         Veggie   \n",
      "\n",
      "                                   pizza_ingredients  \\\n",
      "0           Sliced Ham, Pineapple, Mozzarella Cheese   \n",
      "1  Pepperoni, Mushrooms, Red Onions, Red Peppers,...   \n",
      "2  Mozzarella Cheese, Provolone Cheese, Smoked Go...   \n",
      "3  Calabrese Salami, Capocollo, Tomatoes, Red Oni...   \n",
      "4  Tomatoes, Red Peppers, Jalapeno Peppers, Red O...   \n",
      "\n",
      "                  pizza_name  \n",
      "0         The Hawaiian Pizza  \n",
      "1   The Classic Deluxe Pizza  \n",
      "2      The Five Cheese Pizza  \n",
      "3  The Italian Supreme Pizza  \n",
      "4         The Mexicana Pizza  \n",
      "Total records: 48620\n"
     ]
    }
   ],
   "source": [
    "# Read the old CSV file to verify the changes\n",
    "# Check order_date format earlier it was in dd/mm/yyyy format and now it is in yyyy-mm-dd format\n",
    "df_old = pd.read_csv(\"/Users/GURU/Desktop/Sql_Excel_pizza/pizza_sales.csv\")\n",
    "print(df_old.head())  # Show first few records\n",
    "print(f\"Total records: {len(df_old)}\")\n"
   ]
  }
 ],
 "metadata": {
  "kernelspec": {
   "display_name": "dev",
   "language": "python",
   "name": "python3"
  },
  "language_info": {
   "codemirror_mode": {
    "name": "ipython",
    "version": 3
   },
   "file_extension": ".py",
   "mimetype": "text/x-python",
   "name": "python",
   "nbconvert_exporter": "python",
   "pygments_lexer": "ipython3",
   "version": "3.10.16"
  }
 },
 "nbformat": 4,
 "nbformat_minor": 5
}
